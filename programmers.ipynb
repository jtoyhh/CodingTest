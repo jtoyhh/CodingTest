{
 "cells": [
  {
   "cell_type": "markdown",
   "metadata": {},
   "source": [
    "### 자주 쓰는 라이브러리\n",
    "- itertools\n",
    "  - 반복되는 형태의 데이터를 처리하는 기능을 제공, 순열과 조합 라이브러리를 제공\n",
    "- heapq\n",
    "  - 힙(Heap) 기능을 제공하는 라이브러리, 우선순위 큐 기능을 구현\n",
    "- bisect\n",
    "  - 이진 탐색(Binary Search) 기능을 제공하는 라이브러리\n",
    "- collections\n",
    "  - 덱(deque), 카운터(Counter) 등의 유용한 자료구조를 포함하고 있는 라이브러리\n",
    "- math\n",
    "  - 수학적 기능을 제공하는 라이브러리\n",
    ">1. from collections import Counter\n",
    ">2. from collections import deque\n",
    ">3. from collections import defaultdict\n",
    ">4. import heapq\n",
    ">5. from itertools import permutations\n",
    ">6. from itertools import combinations\n",
    ">7. import math"
   ]
  },
  {
   "cell_type": "markdown",
   "metadata": {},
   "source": [
    "### 1. 해시"
   ]
  },
  {
   "cell_type": "markdown",
   "metadata": {},
   "source": [
    "#### 폰켓몬\n",
    "- N마리 중 N/2\n",
    "- 종류별 번호 부여\n",
    "- [3번, 1번, 2번, 3번] => {'3':2, '1':1, '2':1}\n",
    "- 가장 많은 종류 선택하는 방법\n",
    "- len(nums) = N (항상 짝수)\n",
    "- return max(N/2 중 폰켓몬 종류)"
   ]
  },
  {
   "cell_type": "code",
   "execution_count": 1,
   "metadata": {},
   "outputs": [],
   "source": [
    "# nums = [3,1,2,3]\n",
    "# nums = [3,3,3,2,2,4]\n",
    "nums = [3,3,3,2,2,2]"
   ]
  },
  {
   "cell_type": "code",
   "execution_count": 2,
   "metadata": {},
   "outputs": [],
   "source": [
    "from collections import Counter"
   ]
  },
  {
   "cell_type": "code",
   "execution_count": 3,
   "metadata": {},
   "outputs": [],
   "source": [
    "N = len(nums)//2"
   ]
  },
  {
   "cell_type": "code",
   "execution_count": 4,
   "metadata": {},
   "outputs": [],
   "source": [
    "nums = dict(Counter(nums))"
   ]
  },
  {
   "cell_type": "code",
   "execution_count": 5,
   "metadata": {},
   "outputs": [],
   "source": [
    "answer = []"
   ]
  },
  {
   "cell_type": "code",
   "execution_count": 6,
   "metadata": {},
   "outputs": [],
   "source": [
    "for num in nums.keys():\n",
    "    if N != 0:\n",
    "        answer.append(num)\n",
    "        N -= 1\n",
    "    else:\n",
    "        break"
   ]
  },
  {
   "cell_type": "code",
   "execution_count": 7,
   "metadata": {},
   "outputs": [
    {
     "data": {
      "text/plain": [
       "2"
      ]
     },
     "execution_count": 7,
     "metadata": {},
     "output_type": "execute_result"
    }
   ],
   "source": [
    "len(answer)"
   ]
  },
  {
   "cell_type": "markdown",
   "metadata": {},
   "source": [
    "#### 완주하지 못한 선수\n",
    "- participant, completion => 완주하지 못한 선수\n",
    "> 1. 동명이인 있음\n",
    "> 2. 참가자 이름 1개이상 20개 이하 알파벳 소문자"
   ]
  },
  {
   "cell_type": "code",
   "execution_count": 1,
   "metadata": {},
   "outputs": [],
   "source": [
    "# participant = [\"leo\", \"kiki\", \"eden\"]\n",
    "# completion = [\"eden\", \"kiki\"]\n",
    "\n",
    "# participant = [\"marina\", \"josipa\", \"nikola\", \"vinko\", \"filipa\"]\n",
    "# completion = [\"josipa\", \"filipa\", \"marina\", \"nikola\"]\n",
    "\n",
    "participant = [\"mislav\", \"stanko\", \"mislav\", \"ana\"]\n",
    "completion = [\"stanko\", \"ana\", \"mislav\"]"
   ]
  },
  {
   "cell_type": "code",
   "execution_count": 2,
   "metadata": {},
   "outputs": [],
   "source": [
    "from collections import Counter"
   ]
  },
  {
   "cell_type": "code",
   "execution_count": 7,
   "metadata": {},
   "outputs": [],
   "source": [
    "answer = ''"
   ]
  },
  {
   "cell_type": "code",
   "execution_count": 3,
   "metadata": {},
   "outputs": [],
   "source": [
    "participant = dict(Counter(participant))"
   ]
  },
  {
   "cell_type": "code",
   "execution_count": 5,
   "metadata": {},
   "outputs": [],
   "source": [
    "for name in completion:\n",
    "    if name in participant.keys():\n",
    "        participant[name] -= 1"
   ]
  },
  {
   "cell_type": "code",
   "execution_count": 8,
   "metadata": {},
   "outputs": [],
   "source": [
    "for name, value in participant.items():\n",
    "    if value == 1:\n",
    "        answer = name\n",
    "    else:\n",
    "        pass"
   ]
  },
  {
   "cell_type": "markdown",
   "metadata": {},
   "source": [
    "#### 전화번호 목록\n",
    "- phone_book => 한 번호가 다른 번호의 접두어 => True\n",
    "- 같은 번호 중복해서 들어있지 않음\n",
    "> 1. 구조대 : 119\n",
    "> 2. 박준영 : 97 674 223\n",
    "> 3. 지영석 : 11 9552 4421"
   ]
  },
  {
   "cell_type": "code",
   "execution_count": 1,
   "metadata": {},
   "outputs": [],
   "source": [
    "# phone_book = [\"119\", \"97674223\", \"1195524421\"]\n",
    "# phone_book = [\"123\",\"456\",\"789\"]\n",
    "phone_book = [\"12\",\"123\",\"1235\",\"567\",\"88\"]"
   ]
  },
  {
   "cell_type": "code",
   "execution_count": 2,
   "metadata": {},
   "outputs": [],
   "source": [
    "from collections import deque"
   ]
  },
  {
   "cell_type": "code",
   "execution_count": 3,
   "metadata": {},
   "outputs": [],
   "source": [
    "phone_book = deque(phone_book)"
   ]
  },
  {
   "cell_type": "code",
   "execution_count": 4,
   "metadata": {},
   "outputs": [],
   "source": [
    "temp = ''"
   ]
  },
  {
   "cell_type": "code",
   "execution_count": null,
   "metadata": {},
   "outputs": [],
   "source": [
    "for num in phone_book:\n",
    "    phone_book."
   ]
  },
  {
   "cell_type": "code",
   "execution_count": 5,
   "metadata": {},
   "outputs": [
    {
     "name": "stdout",
     "output_type": "stream",
     "text": [
      "123\n",
      "1235\n"
     ]
    }
   ],
   "source": [
    "while phone_book:\n",
    "    temp = phone_book.popleft()\n",
    "    for num in phone_book:\n",
    "        if temp in num:\n",
    "            print(num)\n",
    "            break\n",
    "        else:\n",
    "            continue"
   ]
  },
  {
   "cell_type": "code",
   "execution_count": 6,
   "metadata": {},
   "outputs": [
    {
     "data": {
      "text/plain": [
       "0"
      ]
     },
     "execution_count": 6,
     "metadata": {},
     "output_type": "execute_result"
    }
   ],
   "source": [
    "len(phone_book)"
   ]
  },
  {
   "cell_type": "markdown",
   "metadata": {},
   "source": [
    "#### 위장\n",
    "- clothes [의상의 이름, 의상의 종류]\n",
    "- 하루에 최소 한개 이상 옷 입음"
   ]
  },
  {
   "cell_type": "code",
   "execution_count": 1,
   "metadata": {},
   "outputs": [],
   "source": [
    "from collections import Counter"
   ]
  },
  {
   "cell_type": "code",
   "execution_count": 2,
   "metadata": {},
   "outputs": [],
   "source": [
    "# clothes = [[\"yellow_hat\", \"headgear\"], [\"blue_sunglasses\", \"eyewear\"], [\"green_turban\", \"headgear\"]]\n",
    "# clothes = [[\"crow_mask\", \"face\"], [\"blue_sunglasses\", \"face\"], [\"smoky_makeup\", \"face\"]]\n",
    "clothes = [[\"blue_sunglasses\", \"eyewear\"], [\"black_sunglasses\", \"eyewear\"], [\"green_turban\", \"headgear\"], [\"yellow_hat\", \"headgear\"], [\"blue_hat\", \"headgear\"], [\"sneakers\", \"shoes\"], [\"slippers\", \"shoes\"]]"
   ]
  },
  {
   "cell_type": "code",
   "execution_count": 3,
   "metadata": {},
   "outputs": [],
   "source": [
    "clothes = dict(clothes)"
   ]
  },
  {
   "cell_type": "code",
   "execution_count": 4,
   "metadata": {},
   "outputs": [],
   "source": [
    "clothes = dict(Counter(clothes.values()))"
   ]
  },
  {
   "cell_type": "code",
   "execution_count": 6,
   "metadata": {},
   "outputs": [],
   "source": [
    "answer = 1"
   ]
  },
  {
   "cell_type": "code",
   "execution_count": 7,
   "metadata": {},
   "outputs": [],
   "source": [
    "for value in clothes.values():\n",
    "    answer *= (value + 1)\n",
    "answer -= 1"
   ]
  },
  {
   "cell_type": "code",
   "execution_count": 8,
   "metadata": {},
   "outputs": [
    {
     "data": {
      "text/plain": [
       "35"
      ]
     },
     "execution_count": 8,
     "metadata": {},
     "output_type": "execute_result"
    }
   ],
   "source": [
    "answer"
   ]
  },
  {
   "cell_type": "markdown",
   "metadata": {},
   "source": [
    "#### 베스트 앨범\n",
    "- 장르 별로 가장 많이 재생된 노래를 두 개씩 모아 베스트 앨범을 출시하려 합니다\n",
    "- 노래는 고유 번호로 구분\n",
    ">1. 속한 노래가 많이 재생된 장르를 먼저 수록합니다.\n",
    ">2. 장르 내에서 많이 재생된 노래를 먼저 수록합니다.\n",
    ">3. 장르 내에서 재생 횟수가 같은 노래 중에서는 고유 번호가 낮은 노래를 먼저 수록합니다.\n",
    "- 베스트 앨범에 들어갈 노래의 고유 번호를 순서대로 return\n",
    "- 장르 별로 가장 많이 재생된 노래를 최대 두 개까지 모아 베스트 앨범을 출시"
   ]
  },
  {
   "cell_type": "code",
   "execution_count": 1,
   "metadata": {},
   "outputs": [],
   "source": [
    "genres = [\"classic\", \"pop\", \"classic\", \"classic\", \"pop\"]\n",
    "plays = [500, 600, 150, 800, 2500]\n",
    "returns = [4, 1, 3, 0]"
   ]
  },
  {
   "cell_type": "code",
   "execution_count": 2,
   "metadata": {},
   "outputs": [],
   "source": [
    "answer = []\n",
    "album = dict()"
   ]
  },
  {
   "cell_type": "code",
   "execution_count": 3,
   "metadata": {},
   "outputs": [],
   "source": [
    "# album key 생성\n",
    "for key in set(genres):\n",
    "    album[key] = {}"
   ]
  },
  {
   "cell_type": "code",
   "execution_count": 4,
   "metadata": {},
   "outputs": [],
   "source": [
    "# {'pop': {1: 600, 4: 2500}, 'classic': {0: 500, 2: 150, 3: 800}}\n",
    "# 만들기 위해 album[genre][i] 사용\n",
    "for i, (genre, play) in enumerate(zip(genres, plays)):\n",
    "    album[genre][i] = play"
   ]
  },
  {
   "cell_type": "code",
   "execution_count": 5,
   "metadata": {},
   "outputs": [],
   "source": [
    "# 1. 속한 노래가 많이 재생된 장르를 먼저 수록합니다.\n",
    "# values 합 기준 내림차순 정렬\n",
    "album = dict(sorted(album.items(), key = lambda item: sum(item[1].values()), reverse = True))"
   ]
  },
  {
   "cell_type": "code",
   "execution_count": 6,
   "metadata": {},
   "outputs": [],
   "source": [
    "# 2. 장르 내에서 많이 재생된 노래를 먼저 수록합니다.\n",
    "# [(1, 600), (4, 2500)]\n",
    "# [(0, 500), (2, 150), (3, 800)]\n",
    "# values 기준 내림차순 정렬\n",
    "for key, value in album.items():\n",
    "    album[key] = dict(sorted(value.items(), key = lambda play : play[1], reverse = True))"
   ]
  },
  {
   "cell_type": "code",
   "execution_count": 7,
   "metadata": {},
   "outputs": [],
   "source": [
    "for key, value in album.items():\n",
    "    count = 0\n",
    "    for index in value.keys():\n",
    "        if count == 2:\n",
    "            break\n",
    "        else:\n",
    "            answer.append(index)\n",
    "        count += 1"
   ]
  },
  {
   "cell_type": "markdown",
   "metadata": {},
   "source": [
    "### 2. 스택 / 큐"
   ]
  },
  {
   "cell_type": "markdown",
   "metadata": {},
   "source": [
    "#### 같은 숫자는 싫어\n",
    "- arr 리스트 내 순서는 유지하고, unique한 숫자 리스트 return "
   ]
  },
  {
   "cell_type": "code",
   "execution_count": 1,
   "metadata": {},
   "outputs": [],
   "source": [
    "from collections import deque"
   ]
  },
  {
   "cell_type": "code",
   "execution_count": 2,
   "metadata": {},
   "outputs": [],
   "source": [
    "# arr = [1,1,3,3,0,1,1]\n",
    "arr = [4,4,4,3,3]"
   ]
  },
  {
   "cell_type": "code",
   "execution_count": 3,
   "metadata": {},
   "outputs": [],
   "source": [
    "answer = []"
   ]
  },
  {
   "cell_type": "code",
   "execution_count": 4,
   "metadata": {},
   "outputs": [],
   "source": [
    "arr = deque(arr)"
   ]
  },
  {
   "cell_type": "code",
   "execution_count": 5,
   "metadata": {},
   "outputs": [],
   "source": [
    "while arr:\n",
    "    if len(answer) == 0:\n",
    "        answer.append(arr.popleft())\n",
    "    else:\n",
    "        if answer[-1] == arr[0]:\n",
    "            arr.popleft()\n",
    "            pass\n",
    "        else:\n",
    "            answer.append(arr.popleft())"
   ]
  },
  {
   "cell_type": "markdown",
   "metadata": {},
   "source": [
    "#### 올바른 괄호 (못품)\n",
    "- 괄호가 바르게 짝지어졌다는 것은 '(' 문자로 열렸으면 반드시 짝지어서 ')' 문자로 닫혀야 한다는 뜻입니다\n",
    ">1. \"()()\" 또는 \"(())()\" 는 올바른 괄호입니다.\n",
    ">2. \")()(\" 또는 \"(()(\" 는 올바르지 않은 괄호입니다.\n",
    "- 올바른 괄호 True\n",
    "- 올바르지 않은 괄호 False"
   ]
  },
  {
   "cell_type": "code",
   "execution_count": 1,
   "metadata": {},
   "outputs": [],
   "source": [
    "from collections import deque"
   ]
  },
  {
   "cell_type": "code",
   "execution_count": 2,
   "metadata": {},
   "outputs": [],
   "source": [
    "# s = \"()()\" # True 0\n",
    "s = \"(())()\" # True 0\n",
    "# s = \")()(\" # False \n",
    "# s = \"(()(\" # False 2 + + - +\n",
    "# s = \"(()))\" # False -1 + + - - -"
   ]
  },
  {
   "cell_type": "code",
   "execution_count": 3,
   "metadata": {},
   "outputs": [],
   "source": [
    "s = deque(s)"
   ]
  },
  {
   "cell_type": "code",
   "execution_count": 4,
   "metadata": {},
   "outputs": [],
   "source": [
    "num = deque()"
   ]
  },
  {
   "cell_type": "code",
   "execution_count": 5,
   "metadata": {},
   "outputs": [],
   "source": [
    "for x in s:\n",
    "    if x == '(':\n",
    "        num.append(1)\n",
    "    else:\n",
    "        num.append(-1)"
   ]
  },
  {
   "cell_type": "code",
   "execution_count": 7,
   "metadata": {},
   "outputs": [],
   "source": [
    "temp = 0"
   ]
  },
  {
   "cell_type": "code",
   "execution_count": null,
   "metadata": {},
   "outputs": [],
   "source": [
    "while num:\n",
    "    # 닫는괄호 -1\n",
    "    # 여는괄호 +1\n",
    "    plus = True # 증가인지 감소인지 판별하기 위한 변수\n",
    "    if len(temp) == 0:\n",
    "        if num[0] == -1: # 첫괄호가 닫는괄호면 말이 안됌\n",
    "            answer = False # return False\n",
    "            break\n",
    "        else: # 여는 괄호면 temp에 더함\n",
    "            temp += num.popleft()\n",
    "            plus = True\n",
    "            # answer = True\n",
    "    else: # temp = 1\n",
    "        # 1. 여는 괄호면 temp 집어넣고(+1) 닫는 괄호 나올때까지 기다림\n",
    "        # 2. 닫는 괄호면 temp 집어넣고(-1) 쌍인 \n",
    "        while temp:\n",
    "\n",
    "            if num[0] == 1:\n",
    "                if plus == False:\n",
    "                    answer = False # return False\n",
    "                else:\n",
    "                    temp += num.popleft()\n",
    "                    plus = True # + +\n",
    "\n",
    "            else:\n",
    "                temp += num.popleft()\n",
    "                plus = False # + -\n",
    "\n",
    "            if temp < 0: # + + - - - => -1 \n",
    "                answer = False #return False\n",
    "            elif temp > 0: # temp > 0 일 때, 아직 안끝남. - 기호 와야됌. 만약 + 기호 나오면 틀린거임. 연속적인 흐름인지 아닌지 판별\n",
    "                if plus == True:  # + + - + => 2\n",
    "                    answer = False # return False\n",
    "                else:\n",
    "                    continue"
   ]
  },
  {
   "cell_type": "code",
   "execution_count": null,
   "metadata": {},
   "outputs": [],
   "source": [
    "from collections import deque\n",
    "def solution(s):\n",
    "    s_dq = deque(s)\n",
    "    stack = []\n",
    "    res = True\n",
    "\n",
    "    while s_dq:\n",
    "        v = s_dq.popleft()\n",
    "        if v == \"(\":\n",
    "            stack.append(v)\n",
    "        elif v == \")\" and stack and stack[-1] == \"(\":\n",
    "            stack.pop()\n",
    "        else:\n",
    "            res = False\n",
    "\n",
    "    return False if stack else res"
   ]
  },
  {
   "cell_type": "markdown",
   "metadata": {},
   "source": [
    "#### 기능 개발\n",
    "![Alt text](./Programmers/%EC%8A%A4%ED%81%AC%EB%A6%B0%EC%83%B7%202022-09-01%2019.04.54.png)\n",
    "![Alt text](./Programmers/%EC%8A%A4%ED%81%AC%EB%A6%B0%EC%83%B7%202022-09-01%2019.05.32.png)"
   ]
  },
  {
   "cell_type": "code",
   "execution_count": 1,
   "metadata": {},
   "outputs": [],
   "source": [
    "from math import ceil\n",
    "from collections import deque"
   ]
  },
  {
   "cell_type": "code",
   "execution_count": 2,
   "metadata": {},
   "outputs": [],
   "source": [
    "progresses = [93, 30, 55]\n",
    "speeds = [1, 30, 5]\n",
    "\n",
    "# progresses = [95, 90, 99, 99, 80, 99]\n",
    "# speeds = [1, 1, 1, 1, 1, 1]"
   ]
  },
  {
   "cell_type": "code",
   "execution_count": 3,
   "metadata": {},
   "outputs": [],
   "source": [
    "day = []"
   ]
  },
  {
   "cell_type": "code",
   "execution_count": 4,
   "metadata": {},
   "outputs": [],
   "source": [
    "for progress, speed in zip(progresses, speeds):\n",
    "    day.append(ceil((100 - progress) / speed))"
   ]
  },
  {
   "cell_type": "code",
   "execution_count": 5,
   "metadata": {},
   "outputs": [],
   "source": [
    "day = deque(day)\n",
    "temp = deque()\n",
    "answer = []"
   ]
  },
  {
   "cell_type": "code",
   "execution_count": 6,
   "metadata": {},
   "outputs": [],
   "source": [
    "while day:\n",
    "    if len(temp) == 0:\n",
    "        temp.append(day.popleft())\n",
    "    else:\n",
    "        if temp[0] >= day[0]: # 10 >= 1\n",
    "            temp.append(day.popleft())\n",
    "        else: # 5 < 10\n",
    "            answer.append(len(temp))\n",
    "            temp = deque()\n",
    "            temp.append(day.popleft())\n",
    "answer.append(len(temp))"
   ]
  },
  {
   "cell_type": "markdown",
   "metadata": {},
   "source": [
    "#### 프린터(못품)\n",
    "![Alt text](./Programmers/%EC%8A%A4%ED%81%AC%EB%A6%B0%EC%83%B7%202022-09-01%2019.05.50.png)\n",
    "![Alt text](./Programmers/%EC%8A%A4%ED%81%AC%EB%A6%B0%EC%83%B7%202022-09-01%2019.05.59.png)"
   ]
  },
  {
   "cell_type": "code",
   "execution_count": 1,
   "metadata": {},
   "outputs": [],
   "source": [
    "from collections import deque"
   ]
  },
  {
   "cell_type": "code",
   "execution_count": 2,
   "metadata": {},
   "outputs": [],
   "source": [
    "# priorities = [2, 1, 3, 2] # A, B, C, D\n",
    "# location = 2\n",
    "\n",
    "priorities = [1, 1, 9, 1, 1, 1]\n",
    "location = 0"
   ]
  },
  {
   "cell_type": "code",
   "execution_count": 3,
   "metadata": {},
   "outputs": [],
   "source": [
    "printer = deque()"
   ]
  },
  {
   "cell_type": "code",
   "execution_count": 4,
   "metadata": {},
   "outputs": [],
   "source": [
    "for index, priority in enumerate(priorities):\n",
    "    printer.append([priority, index])"
   ]
  },
  {
   "cell_type": "code",
   "execution_count": 5,
   "metadata": {},
   "outputs": [],
   "source": [
    "temp = deque()"
   ]
  },
  {
   "cell_type": "code",
   "execution_count": 6,
   "metadata": {},
   "outputs": [],
   "source": [
    "while max(printer) != printer[0]:\n",
    "    printer.append(printer.popleft())"
   ]
  },
  {
   "cell_type": "code",
   "execution_count": 7,
   "metadata": {},
   "outputs": [],
   "source": [
    "answer = []"
   ]
  },
  {
   "cell_type": "code",
   "execution_count": 8,
   "metadata": {},
   "outputs": [],
   "source": [
    "for priority, index in printer:\n",
    "    answer.append(index)"
   ]
  },
  {
   "cell_type": "code",
   "execution_count": 9,
   "metadata": {},
   "outputs": [
    {
     "data": {
      "text/plain": [
       "5"
      ]
     },
     "execution_count": 9,
     "metadata": {},
     "output_type": "execute_result"
    }
   ],
   "source": [
    "answer.index(location)+1"
   ]
  },
  {
   "cell_type": "markdown",
   "metadata": {},
   "source": [
    "#### 다리를 지나는 트럭(못품)\n",
    "![Alt text](./Programmers/%EC%8A%A4%ED%81%AC%EB%A6%B0%EC%83%B7%202022-09-02%2018.28.06.png)\n",
    "![Alt text](./Programmers/%EC%8A%A4%ED%81%AC%EB%A6%B0%EC%83%B7%202022-09-02%2018.28.20.png)"
   ]
  },
  {
   "cell_type": "code",
   "execution_count": 1,
   "metadata": {},
   "outputs": [],
   "source": [
    "from collections import deque\n",
    "\n",
    "# bridge_length = 2\n",
    "# weight = 10\n",
    "# truck_weights = [7,4,5,6]\n",
    "\n",
    "# bridge_length = 100\n",
    "# weight = 100\n",
    "# truck_weights = [10]\n",
    "\n",
    "bridge_length = 100\n",
    "weight = 100\n",
    "truck_weights = [10,10,10,10,10,10,10,10,10,10]"
   ]
  },
  {
   "cell_type": "code",
   "execution_count": 2,
   "metadata": {},
   "outputs": [],
   "source": [
    "bridge = deque()\n",
    "truck_weights = deque(truck_weights)\n",
    "time = deque()"
   ]
  },
  {
   "cell_type": "code",
   "execution_count": 3,
   "metadata": {},
   "outputs": [],
   "source": [
    "if len(bridge) == 0: # 초기 bridge time에 bridge_length 추가\n",
    "    bridge.append(truck_weights.popleft())\n",
    "    time.append(bridge_length)"
   ]
  },
  {
   "cell_type": "code",
   "execution_count": 4,
   "metadata": {},
   "outputs": [],
   "source": [
    "# sum(bridge) =< weight\n",
    "# len(bridge) =< bridge_length\n",
    "def on_bridge(bridge_length, weight, truck):\n",
    "\n",
    "    if sum(bridge) + truck <= weight and len(bridge) + 1 <= bridge_length:\n",
    "        bridge.append(truck_weights.popleft())\n",
    "        time.append(1)\n",
    "\n",
    "    else:\n",
    "        bridge.popleft()\n",
    "        bridge.append(truck_weights.popleft())\n",
    "        time.append(bridge_length)"
   ]
  },
  {
   "cell_type": "code",
   "execution_count": 5,
   "metadata": {},
   "outputs": [],
   "source": [
    "while truck_weights:\n",
    "    on_bridge(bridge_length, weight, truck = truck_weights[0])"
   ]
  },
  {
   "cell_type": "code",
   "execution_count": 7,
   "metadata": {},
   "outputs": [],
   "source": [
    "answer = sum(time) + 1"
   ]
  },
  {
   "cell_type": "markdown",
   "metadata": {},
   "source": [
    "#### 주식 가격\n",
    "![Alt text](./Programmers/%EC%8A%A4%ED%81%AC%EB%A6%B0%EC%83%B7%202022-09-05%2016.09.07.png)"
   ]
  },
  {
   "cell_type": "code",
   "execution_count": 1,
   "metadata": {},
   "outputs": [],
   "source": [
    "from collections import deque\n",
    "\n",
    "prices = [1,2,3,2,3]\n",
    "answer = [4,3,1,1,0]"
   ]
  },
  {
   "cell_type": "code",
   "execution_count": 2,
   "metadata": {},
   "outputs": [],
   "source": [
    "stacks = deque()\n",
    "prices = deque(prices)\n",
    "time = [0] * len(prices)"
   ]
  },
  {
   "cell_type": "code",
   "execution_count": 3,
   "metadata": {},
   "outputs": [],
   "source": [
    "stacks.append(prices.popleft())"
   ]
  },
  {
   "cell_type": "code",
   "execution_count": 4,
   "metadata": {},
   "outputs": [],
   "source": [
    "while prices:\n",
    "    for i in range(len(stacks)):\n",
    "        if stacks[i] <= prices[0]: # 가격 떨어지지 않음\n",
    "            time[i] += 1\n",
    "    stacks.append(prices.popleft())"
   ]
  },
  {
   "cell_type": "code",
   "execution_count": 5,
   "metadata": {},
   "outputs": [
    {
     "data": {
      "text/plain": [
       "True"
      ]
     },
     "execution_count": 5,
     "metadata": {},
     "output_type": "execute_result"
    }
   ],
   "source": [
    "time == answer"
   ]
  },
  {
   "cell_type": "markdown",
   "metadata": {},
   "source": [
    "### 3. 힙"
   ]
  },
  {
   "cell_type": "code",
   "execution_count": null,
   "metadata": {},
   "outputs": [],
   "source": [
    "from heapq import heappush, heappop\n",
    "\n",
    "nums = [4, 1, 7, 3, 8, 5]\n",
    "heap = []\n",
    "\n",
    "for num in nums:\n",
    "  heappush(heap, (-num, num))  # (우선 순위, 값)\n",
    "\n",
    "while heap:\n",
    "  print(heappop(heap)[1])  # index 1"
   ]
  },
  {
   "cell_type": "code",
   "execution_count": null,
   "metadata": {},
   "outputs": [],
   "source": [
    "from heapq import nsmallest\n",
    "\n",
    "nsmallest(3, [4, 1, 7, 3, 8, 5])[-1]"
   ]
  },
  {
   "cell_type": "code",
   "execution_count": null,
   "metadata": {},
   "outputs": [],
   "source": [
    "from heapq import heappush, heappop\n",
    "\n",
    "def heap_sort(nums):\n",
    "  heap = []\n",
    "  for num in nums:\n",
    "    heappush(heap, num)\n",
    "\n",
    "  sorted_nums = []\n",
    "  while heap:\n",
    "    sorted_nums.append(heappop(heap))\n",
    "  return sorted_nums\n",
    "\n",
    "print(heap_sort([4, 1, 7, 3, 8, 5]))"
   ]
  },
  {
   "cell_type": "markdown",
   "metadata": {},
   "source": [
    "#### 더 맵게\n",
    "![Alt text](./Programmers/%EC%8A%A4%ED%81%AC%EB%A6%B0%EC%83%B7%202022-09-06%2016.50.12.png)\n",
    "![Alt text](./Programmers/%EC%8A%A4%ED%81%AC%EB%A6%B0%EC%83%B7%202022-09-06%2016.50.34.png)"
   ]
  },
  {
   "cell_type": "code",
   "execution_count": 11,
   "metadata": {},
   "outputs": [],
   "source": [
    "import heapq\n",
    "\n",
    "scoville = [1, 2, 3, 9, 10, 12]\n",
    "K = 7\n",
    "count = 0"
   ]
  },
  {
   "cell_type": "code",
   "execution_count": 12,
   "metadata": {},
   "outputs": [],
   "source": [
    "heapq.heapify(scoville)"
   ]
  },
  {
   "cell_type": "code",
   "execution_count": 13,
   "metadata": {},
   "outputs": [],
   "source": [
    "while scoville[0] < K:\n",
    "    if len(scoville) <= 1:\n",
    "        if scoville[0] < K:\n",
    "            count = -1\n",
    "            break\n",
    "    else:\n",
    "        heapq.heappush(scoville, heapq.heappop(scoville) + 2*(heapq.heappop(scoville)))\n",
    "        count += 1"
   ]
  },
  {
   "cell_type": "markdown",
   "metadata": {},
   "source": [
    "#### 디스크 컨트롤러\n",
    "![Alt text](./Programmers/%EC%8A%A4%ED%81%AC%EB%A6%B0%EC%83%B7%202022-09-16%2014.03.06.png)\n",
    "![Alt text](./Programmers/%EC%8A%A4%ED%81%AC%EB%A6%B0%EC%83%B7%202022-09-16%2014.03.20.png)\n",
    "![Alt text](./Programmers/%EC%8A%A4%ED%81%AC%EB%A6%B0%EC%83%B7%202022-09-16%2014.04.12.png)\n",
    "![Alt text](./Programmers/%EC%8A%A4%ED%81%AC%EB%A6%B0%EC%83%B7%202022-09-16%2014.04.32.png)"
   ]
  },
  {
   "cell_type": "code",
   "execution_count": 1,
   "metadata": {},
   "outputs": [],
   "source": [
    "import heapq\n",
    "\n",
    "# jobs = [[0, 3], [1, 9], [2, 6]]\n",
    "# result = 9\n",
    "jobs = [[7, 8], [3, 5], [8, 6]]\n",
    "result = 9\n",
    "# 3 + 5 = 8 / 8 - 3 = 5\n",
    "# 8 + 8 = 16 / 16 - 7 = 9\n",
    "# 16 + 6 = 22 / 22 - 8 = 14\n",
    "# now = 0\n",
    "# time = []"
   ]
  },
  {
   "cell_type": "code",
   "execution_count": 2,
   "metadata": {},
   "outputs": [],
   "source": [
    "answer, now, i = 0, 0, 0\n",
    "start = -1\n",
    "heap = []"
   ]
  },
  {
   "cell_type": "code",
   "execution_count": 3,
   "metadata": {},
   "outputs": [],
   "source": [
    "while i < len(jobs):\n",
    "    for j in jobs:\n",
    "        if start < j[0] <= now:\n",
    "            heapq.heappush(heap, [j[1], j[0]])\n",
    "    if len(heap) > 0:\n",
    "        current = heapq.heappop(heap)\n",
    "        start = now\n",
    "        now += current[0]\n",
    "        answer += (now - current[1])\n",
    "        i += 1\n",
    "    else:\n",
    "        now += 1"
   ]
  },
  {
   "cell_type": "code",
   "execution_count": 4,
   "metadata": {},
   "outputs": [
    {
     "data": {
      "text/plain": [
       "8"
      ]
     },
     "execution_count": 4,
     "metadata": {},
     "output_type": "execute_result"
    }
   ],
   "source": [
    "int(answer / len(jobs))"
   ]
  },
  {
   "cell_type": "code",
   "execution_count": 2,
   "metadata": {},
   "outputs": [],
   "source": [
    "# jobs = [(value, key) for key, value in jobs[:]]\n",
    "\n",
    "# heapq.heapify(jobs)\n",
    "\n",
    "# while jobs:\n",
    "#     #heapq.heapify(jobs)\n",
    "\n",
    "#     job_time , request_time = heapq.heappop(jobs)\n",
    "#     if now == 0:\n",
    "#         now += request_time\n",
    "#     now += job_time\n",
    "#     time.append(now - request_time)\n",
    "\n",
    "#     if jobs[0][1] != now:\n",
    "#         # 작업 중 요청 들어올 때?\n",
    "#         if jobs[0][1] < now:\n",
    "#             heapq.heapify(jobs)\n",
    "#         # 디스크 놀고있을 때\n",
    "#         else:\n",
    "#             jobs = [(value, key) for key, value in jobs[:]]\n",
    "#             heapq.heapify(jobs)\n",
    "#             jobs = [(value, key) for key, value in jobs[:]]"
   ]
  },
  {
   "cell_type": "markdown",
   "metadata": {},
   "source": [
    "#### 이중우선순위큐\n",
    "![Alt text](./Programmers/%EC%8A%A4%ED%81%AC%EB%A6%B0%EC%83%B7%202022-09-16%2019.44.49.png)\n",
    "![Alt text](./Programmers/%EC%8A%A4%ED%81%AC%EB%A6%B0%EC%83%B7%202022-09-16%2019.45.08.png)"
   ]
  },
  {
   "cell_type": "code",
   "execution_count": 1,
   "metadata": {},
   "outputs": [],
   "source": [
    "import heapq\n",
    "\n",
    "# operations = [\"I 16\", \"I -5643\", \"D -1\", \"D 1\", \"D 1\", \"I 123\", \"D -1\"]\n",
    "# result = [0,0]\n",
    "\n",
    "operations = [\"I -45\", \"I 653\", \"D 1\", \"I -642\", \"I 45\", \"I 97\", \"D 1\", \"D -1\", \"I 333\"]\n",
    "result = [333, -45]"
   ]
  },
  {
   "cell_type": "code",
   "execution_count": 2,
   "metadata": {},
   "outputs": [],
   "source": [
    "heap = []"
   ]
  },
  {
   "cell_type": "code",
   "execution_count": 3,
   "metadata": {},
   "outputs": [],
   "source": [
    "for i in range(len(operations)):\n",
    "    operations[i] = tuple(operations[i].split(' '))"
   ]
  },
  {
   "cell_type": "code",
   "execution_count": 4,
   "metadata": {},
   "outputs": [],
   "source": [
    "for operation, value in operations:\n",
    "    if operation == 'I':\n",
    "        heapq.heappush(heap, int(value))\n",
    "    elif operation == 'D':\n",
    "        if len(heap) == 0:\n",
    "            pass\n",
    "        else:\n",
    "            if value == '-1':\n",
    "                heapq.heappop(heap)\n",
    "            else:\n",
    "                heapq._heapify_max(heap)\n",
    "                heapq.heappop(heap)\n",
    "                heapq.heapify(heap)"
   ]
  },
  {
   "cell_type": "code",
   "execution_count": 6,
   "metadata": {},
   "outputs": [],
   "source": [
    "if len(heap) == 0:\n",
    "    answer = [0,0]\n",
    "else:\n",
    "    answer = [max(heap), min(heap)]"
   ]
  },
  {
   "cell_type": "markdown",
   "metadata": {},
   "source": [
    "### 4. 정렬"
   ]
  },
  {
   "cell_type": "markdown",
   "metadata": {},
   "source": [
    "#### K번째 수\n",
    "![Alt text](./Programmers/%EC%8A%A4%ED%81%AC%EB%A6%B0%EC%83%B7%202022-09-18%2015.01.06.png)"
   ]
  },
  {
   "cell_type": "code",
   "execution_count": 1,
   "metadata": {},
   "outputs": [],
   "source": [
    "array = [1, 5, 2, 6, 3, 7, 4]\n",
    "commands = [[2, 5, 3], [4, 4, 1], [1, 7, 3]]"
   ]
  },
  {
   "cell_type": "code",
   "execution_count": 2,
   "metadata": {},
   "outputs": [],
   "source": [
    "answer = []"
   ]
  },
  {
   "cell_type": "code",
   "execution_count": 3,
   "metadata": {},
   "outputs": [],
   "source": [
    "for command in commands:\n",
    "    first, last, k = tuple(command)\n",
    "    answer.append(sorted(array[first - 1 : last])[k - 1])"
   ]
  },
  {
   "cell_type": "markdown",
   "metadata": {},
   "source": [
    "#### 가장 큰 수\n",
    "![Alt text](./Programmers/%EC%8A%A4%ED%81%AC%EB%A6%B0%EC%83%B7%202022-09-18%2015.26.11.png)"
   ]
  },
  {
   "cell_type": "code",
   "execution_count": 1,
   "metadata": {},
   "outputs": [],
   "source": [
    "from itertools import permutations\n",
    "import heapq\n",
    "\n",
    "# numbers\t= [6, 10, 2, 0]\n",
    "answer = []\n",
    "numbers = [3, 30, 34, 5, 9]"
   ]
  },
  {
   "cell_type": "code",
   "execution_count": 2,
   "metadata": {},
   "outputs": [],
   "source": [
    "# solve 1\n",
    "numbers = list(map(str, numbers))\n",
    "numbers.sort(key=lambda x: x * 3, reverse=True)"
   ]
  },
  {
   "cell_type": "code",
   "execution_count": 2,
   "metadata": {},
   "outputs": [],
   "source": [
    "# solve 2\n",
    "numbers = [str(x) for x in numbers]\n",
    "\n",
    "for permutation in permutations(numbers, len(numbers)):\n",
    "    # heapq.heappush(answer,(''.join(permutation[:]) , ''.join(permutation[:])))\n",
    "\n",
    "    heapq.heappush(answer, ''.join(permutation[:]))\n",
    "\n",
    "    # answer.append(''.join(permutation[:]))\n",
    "\n",
    "heapq.nlargest(1, answer)[0]\n",
    "\n",
    "\n",
    "answer = str(max(answer))"
   ]
  },
  {
   "cell_type": "markdown",
   "metadata": {},
   "source": [
    "#### H-Index (못품)\n",
    "![Alt text](./Programmers/%EC%8A%A4%ED%81%AC%EB%A6%B0%EC%83%B7%202022-09-18%2023.45.32.png)"
   ]
  },
  {
   "cell_type": "code",
   "execution_count": 1,
   "metadata": {},
   "outputs": [],
   "source": [
    "citations = [3, 0, 6, 1, 5]"
   ]
  },
  {
   "cell_type": "code",
   "execution_count": 2,
   "metadata": {},
   "outputs": [],
   "source": [
    "answer = 0\n",
    "citations.sort()\n",
    "num = []"
   ]
  },
  {
   "cell_type": "code",
   "execution_count": 3,
   "metadata": {},
   "outputs": [],
   "source": [
    "for i in range(max(citations)+1):\n",
    "    ct = 0\n",
    "    for val in citations:\n",
    "        if val >= i:\n",
    "            ct = ct+1\n",
    "        else:\n",
    "            ct = ct+0\n",
    "            \n",
    "    num.append(ct)\n",
    "\n",
    "    if num[i] >= i:\n",
    "        answer = i\n",
    "    else:\n",
    "        break"
   ]
  },
  {
   "cell_type": "code",
   "execution_count": 4,
   "metadata": {},
   "outputs": [
    {
     "data": {
      "text/plain": [
       "3"
      ]
     },
     "execution_count": 4,
     "metadata": {},
     "output_type": "execute_result"
    }
   ],
   "source": [
    "answer"
   ]
  },
  {
   "cell_type": "code",
   "execution_count": 5,
   "metadata": {},
   "outputs": [],
   "source": [
    "def solution(citations):\n",
    "    citations = sorted(citations)\n",
    "    l = len(citations)\n",
    "    for i in range(l):\n",
    "        if citations[i] >= l-i:\n",
    "            return l-i\n",
    "    return 0"
   ]
  },
  {
   "cell_type": "markdown",
   "metadata": {},
   "source": [
    "### 5. 완전 탐색"
   ]
  }
 ],
 "metadata": {
  "kernelspec": {
   "display_name": "Python 3.8.12 ('base')",
   "language": "python",
   "name": "python3"
  },
  "language_info": {
   "codemirror_mode": {
    "name": "ipython",
    "version": 3
   },
   "file_extension": ".py",
   "mimetype": "text/x-python",
   "name": "python",
   "nbconvert_exporter": "python",
   "pygments_lexer": "ipython3",
   "version": "3.8.12"
  },
  "orig_nbformat": 4,
  "vscode": {
   "interpreter": {
    "hash": "40d3a090f54c6569ab1632332b64b2c03c39dcf918b08424e98f38b5ae0af88f"
   }
  }
 },
 "nbformat": 4,
 "nbformat_minor": 2
}
