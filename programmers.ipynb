{
 "cells": [
  {
   "cell_type": "markdown",
   "metadata": {},
   "source": [
    "### 자주 쓰는 라이브러리\n",
    "- itertools\n",
    "  - 반복되는 형태의 데이터를 처리하는 기능을 제공, 순열과 조합 라이브러리를 제공\n",
    "- heapq\n",
    "  - 힙(Heap) 기능을 제공하는 라이브러리, 우선순위 큐 기능을 구현\n",
    "- bisect\n",
    "  - 이진 탐색(Binary Search) 기능을 제공하는 라이브러리\n",
    "- collections\n",
    "  - 덱(deque), 카운터(Counter) 등의 유용한 자료구조를 포함하고 있는 라이브러리\n",
    "- math\n",
    "  - 수학적 기능을 제공하는 라이브러리\n",
    ">1. from collections import Counter\n",
    ">2. from collections import deque\n",
    ">3. from collections import defaultdict\n",
    ">4. import heapq\n",
    ">5. from itertools import permutations\n",
    ">6. from itertools import combinations\n",
    ">7. import math"
   ]
  },
  {
   "cell_type": "markdown",
   "metadata": {},
   "source": [
    "### 해시"
   ]
  },
  {
   "cell_type": "markdown",
   "metadata": {},
   "source": [
    "#### 폰켓몬\n",
    "- N마리 중 N/2\n",
    "- 종류별 번호 부여\n",
    "- [3번, 1번, 2번, 3번] => {'3':2, '1':1, '2':1}\n",
    "- 가장 많은 종류 선택하는 방법\n",
    "- len(nums) = N (항상 짝수)\n",
    "- return max(N/2 중 폰켓몬 종류)"
   ]
  },
  {
   "cell_type": "code",
   "execution_count": 1,
   "metadata": {},
   "outputs": [],
   "source": [
    "# nums = [3,1,2,3]\n",
    "# nums = [3,3,3,2,2,4]\n",
    "nums = [3,3,3,2,2,2]"
   ]
  },
  {
   "cell_type": "code",
   "execution_count": 2,
   "metadata": {},
   "outputs": [],
   "source": [
    "from collections import Counter"
   ]
  },
  {
   "cell_type": "code",
   "execution_count": 3,
   "metadata": {},
   "outputs": [],
   "source": [
    "N = len(nums)//2"
   ]
  },
  {
   "cell_type": "code",
   "execution_count": 4,
   "metadata": {},
   "outputs": [],
   "source": [
    "nums = dict(Counter(nums))"
   ]
  },
  {
   "cell_type": "code",
   "execution_count": 5,
   "metadata": {},
   "outputs": [],
   "source": [
    "answer = []"
   ]
  },
  {
   "cell_type": "code",
   "execution_count": 6,
   "metadata": {},
   "outputs": [],
   "source": [
    "for num in nums.keys():\n",
    "    if N != 0:\n",
    "        answer.append(num)\n",
    "        N -= 1\n",
    "    else:\n",
    "        break"
   ]
  },
  {
   "cell_type": "code",
   "execution_count": 7,
   "metadata": {},
   "outputs": [
    {
     "data": {
      "text/plain": [
       "2"
      ]
     },
     "execution_count": 7,
     "metadata": {},
     "output_type": "execute_result"
    }
   ],
   "source": [
    "len(answer)"
   ]
  },
  {
   "cell_type": "markdown",
   "metadata": {},
   "source": [
    "#### 완주하지 못한 선수\n",
    "- participant, completion => 완주하지 못한 선수\n",
    "> 1. 동명이인 있음\n",
    "> 2. 참가자 이름 1개이상 20개 이하 알파벳 소문자"
   ]
  },
  {
   "cell_type": "code",
   "execution_count": 1,
   "metadata": {},
   "outputs": [],
   "source": [
    "# participant = [\"leo\", \"kiki\", \"eden\"]\n",
    "# completion = [\"eden\", \"kiki\"]\n",
    "\n",
    "# participant = [\"marina\", \"josipa\", \"nikola\", \"vinko\", \"filipa\"]\n",
    "# completion = [\"josipa\", \"filipa\", \"marina\", \"nikola\"]\n",
    "\n",
    "participant = [\"mislav\", \"stanko\", \"mislav\", \"ana\"]\n",
    "completion = [\"stanko\", \"ana\", \"mislav\"]"
   ]
  },
  {
   "cell_type": "code",
   "execution_count": 2,
   "metadata": {},
   "outputs": [],
   "source": [
    "from collections import Counter"
   ]
  },
  {
   "cell_type": "code",
   "execution_count": 7,
   "metadata": {},
   "outputs": [],
   "source": [
    "answer = ''"
   ]
  },
  {
   "cell_type": "code",
   "execution_count": 3,
   "metadata": {},
   "outputs": [],
   "source": [
    "participant = dict(Counter(participant))"
   ]
  },
  {
   "cell_type": "code",
   "execution_count": 5,
   "metadata": {},
   "outputs": [],
   "source": [
    "for name in completion:\n",
    "    if name in participant.keys():\n",
    "        participant[name] -= 1"
   ]
  },
  {
   "cell_type": "code",
   "execution_count": 8,
   "metadata": {},
   "outputs": [],
   "source": [
    "for name, value in participant.items():\n",
    "    if value == 1:\n",
    "        answer = name\n",
    "    else:\n",
    "        pass"
   ]
  },
  {
   "cell_type": "markdown",
   "metadata": {},
   "source": [
    "#### 전화번호 목록\n",
    "- phone_book => 한 번호가 다른 번호의 접두어 => True\n",
    "- 같은 번호 중복해서 들어있지 않음\n",
    "> 1. 구조대 : 119\n",
    "> 2. 박준영 : 97 674 223\n",
    "> 3. 지영석 : 11 9552 4421"
   ]
  },
  {
   "cell_type": "code",
   "execution_count": 1,
   "metadata": {},
   "outputs": [],
   "source": [
    "# phone_book = [\"119\", \"97674223\", \"1195524421\"]\n",
    "# phone_book = [\"123\",\"456\",\"789\"]\n",
    "phone_book = [\"12\",\"123\",\"1235\",\"567\",\"88\"]"
   ]
  },
  {
   "cell_type": "code",
   "execution_count": 2,
   "metadata": {},
   "outputs": [],
   "source": [
    "from collections import deque"
   ]
  },
  {
   "cell_type": "code",
   "execution_count": 3,
   "metadata": {},
   "outputs": [],
   "source": [
    "phone_book = deque(phone_book)"
   ]
  },
  {
   "cell_type": "code",
   "execution_count": 4,
   "metadata": {},
   "outputs": [],
   "source": [
    "temp = ''"
   ]
  },
  {
   "cell_type": "code",
   "execution_count": null,
   "metadata": {},
   "outputs": [],
   "source": [
    "for num in phone_book:\n",
    "    phone_book."
   ]
  },
  {
   "cell_type": "code",
   "execution_count": 5,
   "metadata": {},
   "outputs": [
    {
     "name": "stdout",
     "output_type": "stream",
     "text": [
      "123\n",
      "1235\n"
     ]
    }
   ],
   "source": [
    "while phone_book:\n",
    "    temp = phone_book.popleft()\n",
    "    for num in phone_book:\n",
    "        if temp in num:\n",
    "            print(num)\n",
    "            break\n",
    "        else:\n",
    "            continue"
   ]
  },
  {
   "cell_type": "code",
   "execution_count": 6,
   "metadata": {},
   "outputs": [
    {
     "data": {
      "text/plain": [
       "0"
      ]
     },
     "execution_count": 6,
     "metadata": {},
     "output_type": "execute_result"
    }
   ],
   "source": [
    "len(phone_book)"
   ]
  },
  {
   "cell_type": "markdown",
   "metadata": {},
   "source": [
    "#### 위장\n",
    "- clothes [의상의 이름, 의상의 종류]\n",
    "- 하루에 최소 한개 이상 옷 입음"
   ]
  },
  {
   "cell_type": "code",
   "execution_count": 1,
   "metadata": {},
   "outputs": [],
   "source": [
    "from collections import Counter"
   ]
  },
  {
   "cell_type": "code",
   "execution_count": 2,
   "metadata": {},
   "outputs": [],
   "source": [
    "# clothes = [[\"yellow_hat\", \"headgear\"], [\"blue_sunglasses\", \"eyewear\"], [\"green_turban\", \"headgear\"]]\n",
    "# clothes = [[\"crow_mask\", \"face\"], [\"blue_sunglasses\", \"face\"], [\"smoky_makeup\", \"face\"]]\n",
    "clothes = [[\"blue_sunglasses\", \"eyewear\"], [\"black_sunglasses\", \"eyewear\"], [\"green_turban\", \"headgear\"], [\"yellow_hat\", \"headgear\"], [\"blue_hat\", \"headgear\"], [\"sneakers\", \"shoes\"], [\"slippers\", \"shoes\"]]"
   ]
  },
  {
   "cell_type": "code",
   "execution_count": 3,
   "metadata": {},
   "outputs": [],
   "source": [
    "clothes = dict(clothes)"
   ]
  },
  {
   "cell_type": "code",
   "execution_count": 4,
   "metadata": {},
   "outputs": [],
   "source": [
    "clothes = dict(Counter(clothes.values()))"
   ]
  },
  {
   "cell_type": "code",
   "execution_count": 6,
   "metadata": {},
   "outputs": [],
   "source": [
    "answer = 1"
   ]
  },
  {
   "cell_type": "code",
   "execution_count": 7,
   "metadata": {},
   "outputs": [],
   "source": [
    "for value in clothes.values():\n",
    "    answer *= (value + 1)\n",
    "answer -= 1"
   ]
  },
  {
   "cell_type": "code",
   "execution_count": 8,
   "metadata": {},
   "outputs": [
    {
     "data": {
      "text/plain": [
       "35"
      ]
     },
     "execution_count": 8,
     "metadata": {},
     "output_type": "execute_result"
    }
   ],
   "source": [
    "answer"
   ]
  },
  {
   "cell_type": "markdown",
   "metadata": {},
   "source": [
    "#### 베스트 앨범\n",
    "- 장르 별로 가장 많이 재생된 노래를 두 개씩 모아 베스트 앨범을 출시하려 합니다\n",
    "- 노래는 고유 번호로 구분\n",
    ">1. 속한 노래가 많이 재생된 장르를 먼저 수록합니다.\n",
    ">2. 장르 내에서 많이 재생된 노래를 먼저 수록합니다.\n",
    ">3. 장르 내에서 재생 횟수가 같은 노래 중에서는 고유 번호가 낮은 노래를 먼저 수록합니다.\n",
    "- 베스트 앨범에 들어갈 노래의 고유 번호를 순서대로 return\n",
    "- 장르 별로 가장 많이 재생된 노래를 최대 두 개까지 모아 베스트 앨범을 출시"
   ]
  },
  {
   "cell_type": "code",
   "execution_count": 1,
   "metadata": {},
   "outputs": [],
   "source": [
    "genres = [\"classic\", \"pop\", \"classic\", \"classic\", \"pop\"]\n",
    "plays = [500, 600, 150, 800, 2500]\n",
    "returns = [4, 1, 3, 0]"
   ]
  },
  {
   "cell_type": "code",
   "execution_count": 2,
   "metadata": {},
   "outputs": [],
   "source": [
    "answer = []\n",
    "album = dict()"
   ]
  },
  {
   "cell_type": "code",
   "execution_count": 3,
   "metadata": {},
   "outputs": [],
   "source": [
    "# album key 생성\n",
    "for key in set(genres):\n",
    "    album[key] = {}"
   ]
  },
  {
   "cell_type": "code",
   "execution_count": 4,
   "metadata": {},
   "outputs": [],
   "source": [
    "# {'pop': {1: 600, 4: 2500}, 'classic': {0: 500, 2: 150, 3: 800}}\n",
    "# 만들기 위해 album[genre][i] 사용\n",
    "for i, (genre, play) in enumerate(zip(genres, plays)):\n",
    "    album[genre][i] = play"
   ]
  },
  {
   "cell_type": "code",
   "execution_count": 5,
   "metadata": {},
   "outputs": [],
   "source": [
    "# 1. 속한 노래가 많이 재생된 장르를 먼저 수록합니다.\n",
    "# values 합 기준 내림차순 정렬\n",
    "album = dict(sorted(album.items(), key = lambda item: sum(item[1].values()), reverse = True))"
   ]
  },
  {
   "cell_type": "code",
   "execution_count": 6,
   "metadata": {},
   "outputs": [],
   "source": [
    "# 2. 장르 내에서 많이 재생된 노래를 먼저 수록합니다.\n",
    "# [(1, 600), (4, 2500)]\n",
    "# [(0, 500), (2, 150), (3, 800)]\n",
    "# values 기준 내림차순 정렬\n",
    "for key, value in album.items():\n",
    "    album[key] = dict(sorted(value.items(), key = lambda play : play[1], reverse = True))"
   ]
  },
  {
   "cell_type": "code",
   "execution_count": 7,
   "metadata": {},
   "outputs": [],
   "source": [
    "for key, value in album.items():\n",
    "    count = 0\n",
    "    for index in value.keys():\n",
    "        if count == 2:\n",
    "            break\n",
    "        else:\n",
    "            answer.append(index)\n",
    "        count += 1"
   ]
  },
  {
   "cell_type": "markdown",
   "metadata": {},
   "source": [
    "### 스택 / 큐"
   ]
  },
  {
   "cell_type": "markdown",
   "metadata": {},
   "source": [
    "#### 같은 숫자는 싫어"
   ]
  },
  {
   "cell_type": "markdown",
   "metadata": {},
   "source": []
  }
 ],
 "metadata": {
  "kernelspec": {
   "display_name": "Python 3.8.12 ('base')",
   "language": "python",
   "name": "python3"
  },
  "language_info": {
   "codemirror_mode": {
    "name": "ipython",
    "version": 3
   },
   "file_extension": ".py",
   "mimetype": "text/x-python",
   "name": "python",
   "nbconvert_exporter": "python",
   "pygments_lexer": "ipython3",
   "version": "3.8.12"
  },
  "orig_nbformat": 4,
  "vscode": {
   "interpreter": {
    "hash": "40d3a090f54c6569ab1632332b64b2c03c39dcf918b08424e98f38b5ae0af88f"
   }
  }
 },
 "nbformat": 4,
 "nbformat_minor": 2
}
